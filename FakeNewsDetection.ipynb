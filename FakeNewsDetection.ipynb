{
  "nbformat": 4,
  "nbformat_minor": 0,
  "metadata": {
    "colab": {
      "name": "FakeNewsDetection.ipynb",
      "provenance": [],
      "collapsed_sections": [],
      "authorship_tag": "ABX9TyM+0UjTQuEOYCKFRVYcJRbs",
      "include_colab_link": true
    },
    "kernelspec": {
      "name": "python3",
      "display_name": "Python 3"
    },
    "language_info": {
      "name": "python"
    }
  },
  "cells": [
    {
      "cell_type": "markdown",
      "metadata": {
        "id": "view-in-github",
        "colab_type": "text"
      },
      "source": [
        "<a href=\"https://colab.research.google.com/github/abhi123412/IPSVIP/blob/main/FakeNewsDetection.ipynb\" target=\"_parent\"><img src=\"https://colab.research.google.com/assets/colab-badge.svg\" alt=\"Open In Colab\"/></a>"
      ]
    },
    {
      "cell_type": "markdown",
      "metadata": {
        "id": "KWCHebi6CjBE"
      },
      "source": [
        "#**Machine Learning Intern at InfoPillar Solutions Pvt Ltd - Virtual Internship Program**"
      ]
    },
    {
      "cell_type": "markdown",
      "metadata": {
        "id": "FOt6i4-8E9w5"
      },
      "source": [
        "# Author - Abhijeet Balu Thombare"
      ]
    },
    {
      "cell_type": "markdown",
      "metadata": {
        "id": "fzokLt1c1rgN"
      },
      "source": [
        "# **Task** 1 :- Fake News Detection Project\n",
        "Project idea :– Fake news spreads like a wildfire and this is a big issue in this era"
      ]
    },
    {
      "cell_type": "markdown",
      "metadata": {
        "id": "8rXpwZlIYnFt"
      },
      "source": [
        "#1] Import Libraries"
      ]
    },
    {
      "cell_type": "code",
      "metadata": {
        "id": "C4Aac9ScYtrs"
      },
      "source": [
        "import numpy as np\n",
        "import pandas as pd\n",
        "import itertools\n",
        "from sklearn.model_selection import train_test_split\n",
        "from sklearn.feature_extraction.text import TfidfVectorizer\n",
        "from sklearn.linear_model import PassiveAggressiveClassifier\n",
        "from sklearn.metrics import accuracy_score, confusion_matrix"
      ],
      "execution_count": 41,
      "outputs": []
    },
    {
      "cell_type": "markdown",
      "metadata": {
        "id": "tjgzvvHlmppu"
      },
      "source": [
        "# 2] Load Dataset"
      ]
    },
    {
      "cell_type": "code",
      "metadata": {
        "id": "GUpNjM1TZG9Z"
      },
      "source": [
        "#Read the data\n",
        "dataset = pd.read_csv('/content/news.csv')"
      ],
      "execution_count": 42,
      "outputs": []
    },
    {
      "cell_type": "markdown",
      "metadata": {
        "id": "VLOgnkOdmvyt"
      },
      "source": [
        "#3] Summarise Dataset"
      ]
    },
    {
      "cell_type": "code",
      "metadata": {
        "colab": {
          "base_uri": "https://localhost:8080/"
        },
        "id": "KA3SJQH0mmGw",
        "outputId": "8aa957dd-9831-4f90-8006-9ae4177cc3e9"
      },
      "source": [
        "print(\"No. of Columns and Rows :- \",dataset.shape) #It gives no. of rows and columns\n",
        "\n",
        "print(dataset.head()) #It gives first five record"
      ],
      "execution_count": 43,
      "outputs": [
        {
          "output_type": "stream",
          "name": "stdout",
          "text": [
            "No. of Columns and Rows :-  (6335, 4)\n",
            "   Unnamed: 0  ... label\n",
            "0        8476  ...  FAKE\n",
            "1       10294  ...  FAKE\n",
            "2        3608  ...  REAL\n",
            "3       10142  ...  FAKE\n",
            "4         875  ...  REAL\n",
            "\n",
            "[5 rows x 4 columns]\n"
          ]
        }
      ]
    },
    {
      "cell_type": "markdown",
      "metadata": {
        "id": "YfpZeIdspZBh"
      },
      "source": [
        "#4] Get the Labels from DataSet"
      ]
    },
    {
      "cell_type": "code",
      "metadata": {
        "colab": {
          "base_uri": "https://localhost:8080/"
        },
        "id": "llVLe_Dqpg_n",
        "outputId": "4406ed65-1ae8-4b5a-f5e2-59e4b48df538"
      },
      "source": [
        "labels=dataset.label\n",
        "# labels.head(10)\n",
        "print(labels)"
      ],
      "execution_count": 44,
      "outputs": [
        {
          "output_type": "stream",
          "name": "stdout",
          "text": [
            "0       FAKE\n",
            "1       FAKE\n",
            "2       REAL\n",
            "3       FAKE\n",
            "4       REAL\n",
            "        ... \n",
            "6330    REAL\n",
            "6331    FAKE\n",
            "6332    FAKE\n",
            "6333    REAL\n",
            "6334    REAL\n",
            "Name: label, Length: 6335, dtype: object\n"
          ]
        }
      ]
    },
    {
      "cell_type": "markdown",
      "metadata": {
        "id": "X4Gc3DqZnhPG"
      },
      "source": [
        "#5] Split the dataset into training and testing sets"
      ]
    },
    {
      "cell_type": "code",
      "metadata": {
        "id": "ATUFEp1Sm2Wq"
      },
      "source": [
        "#Spliting the dataset into testing and training\n",
        "x_train,x_test,y_train,y_test =train_test_split(dataset['text'], labels, test_size=0.2, random_state=7)"
      ],
      "execution_count": 45,
      "outputs": []
    },
    {
      "cell_type": "markdown",
      "metadata": {
        "id": "WnArhju0p9nA"
      },
      "source": [
        "#6] Fit and transform the vectorizer on the train set, and transform the vectorizer on the test set."
      ]
    },
    {
      "cell_type": "code",
      "metadata": {
        "id": "IBqVwNdzqFNZ"
      },
      "source": [
        "#Initialize a TfidfVectorizer\n",
        "tfidf_vectorizer=TfidfVectorizer(stop_words='english', max_df=0.7)"
      ],
      "execution_count": 47,
      "outputs": []
    },
    {
      "cell_type": "code",
      "metadata": {
        "id": "I_l53S6hDyHn"
      },
      "source": [
        "#Fit and transform train set, transform test set\n",
        "tfidf_train=tfidf_vectorizer.fit_transform(x_train) \n",
        "tfidf_test=tfidf_vectorizer.transform(x_test)"
      ],
      "execution_count": 48,
      "outputs": []
    },
    {
      "cell_type": "markdown",
      "metadata": {
        "id": "lUvdxdWqqjQ0"
      },
      "source": [
        "#7] Initialize a PassiveAggressiveClassifier."
      ]
    },
    {
      "cell_type": "code",
      "metadata": {
        "colab": {
          "base_uri": "https://localhost:8080/"
        },
        "id": "-yUBmfPZpH8q",
        "outputId": "ed48f008-e984-41f6-97d1-2125958c70c1"
      },
      "source": [
        "#Initialize a PassiveAggressiveClassifier\n",
        "pac=PassiveAggressiveClassifier(max_iter=50)\n",
        "pac.fit(tfidf_train,y_train)"
      ],
      "execution_count": 49,
      "outputs": [
        {
          "output_type": "execute_result",
          "data": {
            "text/plain": [
              "PassiveAggressiveClassifier(C=1.0, average=False, class_weight=None,\n",
              "                            early_stopping=False, fit_intercept=True,\n",
              "                            loss='hinge', max_iter=50, n_iter_no_change=5,\n",
              "                            n_jobs=None, random_state=None, shuffle=True,\n",
              "                            tol=0.001, validation_fraction=0.1, verbose=0,\n",
              "                            warm_start=False)"
            ]
          },
          "metadata": {},
          "execution_count": 49
        }
      ]
    },
    {
      "cell_type": "code",
      "metadata": {
        "colab": {
          "base_uri": "https://localhost:8080/"
        },
        "id": "0L9-40vFEMoJ",
        "outputId": "b9bab070-9813-4858-a48d-f49ea20df6a2"
      },
      "source": [
        "#Predict on the test set and calculate accuracy\n",
        "y_pred=pac.predict(tfidf_test)\n",
        "score=accuracy_score(y_test,y_pred)\n",
        "print(f'Accuracy: {round(score*100,2)}%')"
      ],
      "execution_count": 50,
      "outputs": [
        {
          "output_type": "stream",
          "name": "stdout",
          "text": [
            "Accuracy: 92.58%\n"
          ]
        }
      ]
    },
    {
      "cell_type": "markdown",
      "metadata": {
        "id": "3qsrl2jEq4c8"
      },
      "source": [
        "#The accuracy of 92.58% with this model."
      ]
    },
    {
      "cell_type": "markdown",
      "metadata": {
        "id": "pZOwHPBnFFAU"
      },
      "source": [
        "#8]Print out a confusion matrix."
      ]
    },
    {
      "cell_type": "code",
      "metadata": {
        "colab": {
          "base_uri": "https://localhost:8080/"
        },
        "id": "EYe1Hatbq6IB",
        "outputId": "97a537b1-6ebe-4404-b44a-557e11282d94"
      },
      "source": [
        "confusion_matrix(y_test,y_pred, labels=['FAKE','REAL'])"
      ],
      "execution_count": 51,
      "outputs": [
        {
          "output_type": "execute_result",
          "data": {
            "text/plain": [
              "array([[588,  50],\n",
              "       [ 44, 585]])"
            ]
          },
          "metadata": {},
          "execution_count": 51
        }
      ]
    },
    {
      "cell_type": "markdown",
      "metadata": {
        "id": "QFVzmLLcFgza"
      },
      "source": [
        "#In this model, we have 588 true positives, 585 true negatives, 50 false \n",
        "#positives, and 44 false negatives.\n"
      ]
    },
    {
      "cell_type": "code",
      "metadata": {
        "id": "vbuxFpzIRmX-"
      },
      "source": [
        ""
      ],
      "execution_count": null,
      "outputs": []
    }
  ]
}